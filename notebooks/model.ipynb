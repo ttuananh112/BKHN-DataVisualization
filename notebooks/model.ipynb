{
 "cells": [
  {
   "cell_type": "code",
   "execution_count": 1,
   "id": "9fd33838-82fe-4349-bbd9-fd92483b4318",
   "metadata": {},
   "outputs": [],
   "source": [
    "from sklearn.linear_model import LinearRegression\n",
    "import numpy as np\n",
    "import pandas as pd\n",
    "import seaborn as sns\n",
    "import matplotlib.pyplot as plt"
   ]
  },
  {
   "cell_type": "code",
   "execution_count": 2,
   "id": "e114bdc0-1a80-4db9-ac45-0471c9b23af9",
   "metadata": {},
   "outputs": [],
   "source": [
    "df = pd.read_csv(\"../data/thoi_trang.csv\")"
   ]
  },
  {
   "cell_type": "code",
   "execution_count": 3,
   "id": "96b1a60b-70ca-4fd2-8d91-2b4bab204dd2",
   "metadata": {},
   "outputs": [
    {
     "data": {
      "text/plain": [
       "(9764, 17)"
      ]
     },
     "execution_count": 3,
     "metadata": {},
     "output_type": "execute_result"
    }
   ],
   "source": [
    "df.shape"
   ]
  },
  {
   "cell_type": "code",
   "execution_count": 4,
   "id": "760baf91-ea68-4138-8f24-41c16156d5ad",
   "metadata": {},
   "outputs": [
    {
     "data": {
      "text/html": [
       "<div>\n",
       "<style scoped>\n",
       "    .dataframe tbody tr th:only-of-type {\n",
       "        vertical-align: middle;\n",
       "    }\n",
       "\n",
       "    .dataframe tbody tr th {\n",
       "        vertical-align: top;\n",
       "    }\n",
       "\n",
       "    .dataframe thead th {\n",
       "        text-align: right;\n",
       "    }\n",
       "</style>\n",
       "<table border=\"1\" class=\"dataframe\">\n",
       "  <thead>\n",
       "    <tr style=\"text-align: right;\">\n",
       "      <th></th>\n",
       "      <th>Unnamed: 0</th>\n",
       "      <th>Product Name</th>\n",
       "      <th>Price</th>\n",
       "      <th>Brand</th>\n",
       "      <th>Categories</th>\n",
       "      <th>Product Sold</th>\n",
       "      <th>Stock</th>\n",
       "      <th>Rating</th>\n",
       "      <th>5 Start</th>\n",
       "      <th>4 Start</th>\n",
       "      <th>3 Start</th>\n",
       "      <th>2 Start</th>\n",
       "      <th>1 Start</th>\n",
       "      <th>Total Rating</th>\n",
       "      <th>No of Comments</th>\n",
       "      <th>Image and Video</th>\n",
       "      <th>Parent Category</th>\n",
       "    </tr>\n",
       "  </thead>\n",
       "  <tbody>\n",
       "    <tr>\n",
       "      <th>0</th>\n",
       "      <td>0</td>\n",
       "      <td>Porozi Áo sweater dệt kim tay dài cổ tròn thời...</td>\n",
       "      <td>139000.0</td>\n",
       "      <td>porozi</td>\n",
       "      <td>Thời Trang Nữ/Áo len &amp; Cardigan</td>\n",
       "      <td>931</td>\n",
       "      <td>142230</td>\n",
       "      <td>4.7</td>\n",
       "      <td>290</td>\n",
       "      <td>10</td>\n",
       "      <td>15</td>\n",
       "      <td>4</td>\n",
       "      <td>11</td>\n",
       "      <td>330</td>\n",
       "      <td>166</td>\n",
       "      <td>143</td>\n",
       "      <td>Thời Trang Nữ</td>\n",
       "    </tr>\n",
       "    <tr>\n",
       "      <th>1</th>\n",
       "      <td>1</td>\n",
       "      <td>FREESHIP- Áo len cổ tròn màu xanh đính cúc pho...</td>\n",
       "      <td>152000.0</td>\n",
       "      <td>porozi</td>\n",
       "      <td>Thời Trang Nữ/Áo len &amp; Cardigan</td>\n",
       "      <td>241</td>\n",
       "      <td>17</td>\n",
       "      <td>4.9</td>\n",
       "      <td>56</td>\n",
       "      <td>5</td>\n",
       "      <td>0</td>\n",
       "      <td>0</td>\n",
       "      <td>0</td>\n",
       "      <td>61</td>\n",
       "      <td>45</td>\n",
       "      <td>39</td>\n",
       "      <td>Thời Trang Nữ</td>\n",
       "    </tr>\n",
       "    <tr>\n",
       "      <th>2</th>\n",
       "      <td>2</td>\n",
       "      <td>Áo len cho bố nam trung niên loại 1 đẹp dày dặ...</td>\n",
       "      <td>100000.0</td>\n",
       "      <td>porozi</td>\n",
       "      <td>Thời Trang Nam/Áo Hoodie, Áo Len &amp; Áo Nỉ/Áo Len</td>\n",
       "      <td>176</td>\n",
       "      <td>280</td>\n",
       "      <td>4.6</td>\n",
       "      <td>37</td>\n",
       "      <td>4</td>\n",
       "      <td>4</td>\n",
       "      <td>0</td>\n",
       "      <td>2</td>\n",
       "      <td>47</td>\n",
       "      <td>25</td>\n",
       "      <td>11</td>\n",
       "      <td>Thời Trang Nam</td>\n",
       "    </tr>\n",
       "    <tr>\n",
       "      <th>3</th>\n",
       "      <td>3</td>\n",
       "      <td>Áo Len Nam Cổ Tròn Trơn SUKIYA Nhiều Màu, Đủ S...</td>\n",
       "      <td>164250.0</td>\n",
       "      <td>SUKIYA JAPAN</td>\n",
       "      <td>Thời Trang Nam/Áo Hoodie, Áo Len &amp; Áo Nỉ/Áo Len</td>\n",
       "      <td>7800</td>\n",
       "      <td>83902</td>\n",
       "      <td>4.9</td>\n",
       "      <td>2300</td>\n",
       "      <td>102</td>\n",
       "      <td>41</td>\n",
       "      <td>10</td>\n",
       "      <td>22</td>\n",
       "      <td>2500</td>\n",
       "      <td>1300</td>\n",
       "      <td>1000</td>\n",
       "      <td>Thời Trang Nam</td>\n",
       "    </tr>\n",
       "    <tr>\n",
       "      <th>4</th>\n",
       "      <td>4</td>\n",
       "      <td>Áo khoác cardigan len lửng tay dài nhiều màu</td>\n",
       "      <td>215000.0</td>\n",
       "      <td>SUKIYA JAPAN</td>\n",
       "      <td>Thời Trang Nữ/Áo len &amp; Cardigan</td>\n",
       "      <td>556</td>\n",
       "      <td>11</td>\n",
       "      <td>4.9</td>\n",
       "      <td>135</td>\n",
       "      <td>7</td>\n",
       "      <td>3</td>\n",
       "      <td>0</td>\n",
       "      <td>2</td>\n",
       "      <td>147</td>\n",
       "      <td>86</td>\n",
       "      <td>75</td>\n",
       "      <td>Thời Trang Nữ</td>\n",
       "    </tr>\n",
       "    <tr>\n",
       "      <th>5</th>\n",
       "      <td>5</td>\n",
       "      <td>Áo len oversize form dáng rộng dệt kim dài tay...</td>\n",
       "      <td>165000.0</td>\n",
       "      <td>SUKIYA JAPAN</td>\n",
       "      <td>Thời Trang Nữ/Áo len &amp; Cardigan</td>\n",
       "      <td>716</td>\n",
       "      <td>0</td>\n",
       "      <td>4.9</td>\n",
       "      <td>223</td>\n",
       "      <td>11</td>\n",
       "      <td>8</td>\n",
       "      <td>0</td>\n",
       "      <td>0</td>\n",
       "      <td>242</td>\n",
       "      <td>177</td>\n",
       "      <td>154</td>\n",
       "      <td>Thời Trang Nữ</td>\n",
       "    </tr>\n",
       "    <tr>\n",
       "      <th>6</th>\n",
       "      <td>6</td>\n",
       "      <td>ÁO KHOÁC CARDIGAN LEN NỮ QUẢNG CHÂU HỌA TIẾT H...</td>\n",
       "      <td>169000.0</td>\n",
       "      <td>SUKIYA JAPAN</td>\n",
       "      <td>Thời Trang Nữ/Áo len &amp; Cardigan</td>\n",
       "      <td>21900</td>\n",
       "      <td>142230</td>\n",
       "      <td>4.9</td>\n",
       "      <td>3800</td>\n",
       "      <td>113</td>\n",
       "      <td>47</td>\n",
       "      <td>16</td>\n",
       "      <td>41</td>\n",
       "      <td>4100</td>\n",
       "      <td>1600</td>\n",
       "      <td>1400</td>\n",
       "      <td>Thời Trang Nữ</td>\n",
       "    </tr>\n",
       "    <tr>\n",
       "      <th>7</th>\n",
       "      <td>7</td>\n",
       "      <td>[SẴN HÀNG] Áo len Noel giáng sinh cực nhiều mẫ...</td>\n",
       "      <td>259000.0</td>\n",
       "      <td>SUKIYA JAPAN</td>\n",
       "      <td>Thời Trang Nữ/Áo len &amp; Cardigan</td>\n",
       "      <td>410</td>\n",
       "      <td>421</td>\n",
       "      <td>4.8</td>\n",
       "      <td>68</td>\n",
       "      <td>7</td>\n",
       "      <td>3</td>\n",
       "      <td>1</td>\n",
       "      <td>0</td>\n",
       "      <td>79</td>\n",
       "      <td>51</td>\n",
       "      <td>32</td>\n",
       "      <td>Thời Trang Nữ</td>\n",
       "    </tr>\n",
       "    <tr>\n",
       "      <th>8</th>\n",
       "      <td>8</td>\n",
       "      <td>Áo len lông thỏ cao cấp siêu mềm mịn , ao len ...</td>\n",
       "      <td>230000.0</td>\n",
       "      <td>SUKIYA JAPAN</td>\n",
       "      <td>Thời Trang Nữ/Áo/Khác</td>\n",
       "      <td>140</td>\n",
       "      <td>690</td>\n",
       "      <td>5.0</td>\n",
       "      <td>39</td>\n",
       "      <td>2</td>\n",
       "      <td>0</td>\n",
       "      <td>0</td>\n",
       "      <td>0</td>\n",
       "      <td>41</td>\n",
       "      <td>24</td>\n",
       "      <td>20</td>\n",
       "      <td>Thời Trang Nữ</td>\n",
       "    </tr>\n",
       "    <tr>\n",
       "      <th>9</th>\n",
       "      <td>9</td>\n",
       "      <td>Áo len nữ màu trắng đen nâu phom xinh thời tra...</td>\n",
       "      <td>205000.0</td>\n",
       "      <td>SUKIYA JAPAN</td>\n",
       "      <td>Thời Trang Nữ/Áo len &amp; Cardigan</td>\n",
       "      <td>402</td>\n",
       "      <td>157</td>\n",
       "      <td>4.9</td>\n",
       "      <td>111</td>\n",
       "      <td>4</td>\n",
       "      <td>1</td>\n",
       "      <td>0</td>\n",
       "      <td>0</td>\n",
       "      <td>116</td>\n",
       "      <td>77</td>\n",
       "      <td>56</td>\n",
       "      <td>Thời Trang Nữ</td>\n",
       "    </tr>\n",
       "  </tbody>\n",
       "</table>\n",
       "</div>"
      ],
      "text/plain": [
       "   Unnamed: 0                                       Product Name     Price  \\\n",
       "0           0  Porozi Áo sweater dệt kim tay dài cổ tròn thời...  139000.0   \n",
       "1           1  FREESHIP- Áo len cổ tròn màu xanh đính cúc pho...  152000.0   \n",
       "2           2  Áo len cho bố nam trung niên loại 1 đẹp dày dặ...  100000.0   \n",
       "3           3  Áo Len Nam Cổ Tròn Trơn SUKIYA Nhiều Màu, Đủ S...  164250.0   \n",
       "4           4       Áo khoác cardigan len lửng tay dài nhiều màu  215000.0   \n",
       "5           5  Áo len oversize form dáng rộng dệt kim dài tay...  165000.0   \n",
       "6           6  ÁO KHOÁC CARDIGAN LEN NỮ QUẢNG CHÂU HỌA TIẾT H...  169000.0   \n",
       "7           7  [SẴN HÀNG] Áo len Noel giáng sinh cực nhiều mẫ...  259000.0   \n",
       "8           8  Áo len lông thỏ cao cấp siêu mềm mịn , ao len ...  230000.0   \n",
       "9           9  Áo len nữ màu trắng đen nâu phom xinh thời tra...  205000.0   \n",
       "\n",
       "          Brand                                       Categories  \\\n",
       "0        porozi                  Thời Trang Nữ/Áo len & Cardigan   \n",
       "1        porozi                  Thời Trang Nữ/Áo len & Cardigan   \n",
       "2        porozi  Thời Trang Nam/Áo Hoodie, Áo Len & Áo Nỉ/Áo Len   \n",
       "3  SUKIYA JAPAN  Thời Trang Nam/Áo Hoodie, Áo Len & Áo Nỉ/Áo Len   \n",
       "4  SUKIYA JAPAN                  Thời Trang Nữ/Áo len & Cardigan   \n",
       "5  SUKIYA JAPAN                  Thời Trang Nữ/Áo len & Cardigan   \n",
       "6  SUKIYA JAPAN                  Thời Trang Nữ/Áo len & Cardigan   \n",
       "7  SUKIYA JAPAN                  Thời Trang Nữ/Áo len & Cardigan   \n",
       "8  SUKIYA JAPAN                            Thời Trang Nữ/Áo/Khác   \n",
       "9  SUKIYA JAPAN                  Thời Trang Nữ/Áo len & Cardigan   \n",
       "\n",
       "   Product Sold   Stock  Rating  5 Start  4 Start  3 Start  2 Start  1 Start  \\\n",
       "0           931  142230     4.7      290       10       15        4       11   \n",
       "1           241      17     4.9       56        5        0        0        0   \n",
       "2           176     280     4.6       37        4        4        0        2   \n",
       "3          7800   83902     4.9     2300      102       41       10       22   \n",
       "4           556      11     4.9      135        7        3        0        2   \n",
       "5           716       0     4.9      223       11        8        0        0   \n",
       "6         21900  142230     4.9     3800      113       47       16       41   \n",
       "7           410     421     4.8       68        7        3        1        0   \n",
       "8           140     690     5.0       39        2        0        0        0   \n",
       "9           402     157     4.9      111        4        1        0        0   \n",
       "\n",
       "   Total Rating  No of Comments  Image and Video Parent Category  \n",
       "0           330             166              143   Thời Trang Nữ  \n",
       "1            61              45               39   Thời Trang Nữ  \n",
       "2            47              25               11  Thời Trang Nam  \n",
       "3          2500            1300             1000  Thời Trang Nam  \n",
       "4           147              86               75   Thời Trang Nữ  \n",
       "5           242             177              154   Thời Trang Nữ  \n",
       "6          4100            1600             1400   Thời Trang Nữ  \n",
       "7            79              51               32   Thời Trang Nữ  \n",
       "8            41              24               20   Thời Trang Nữ  \n",
       "9           116              77               56   Thời Trang Nữ  "
      ]
     },
     "execution_count": 4,
     "metadata": {},
     "output_type": "execute_result"
    }
   ],
   "source": [
    "df.head(10)"
   ]
  },
  {
   "cell_type": "code",
   "execution_count": 5,
   "id": "5ef5c555-3bef-40ff-a1bc-4013dd38a0b3",
   "metadata": {},
   "outputs": [],
   "source": [
    "X = df[[\"No of Comments\", \"Image and Video\", \"Product Sold\"]]\n",
    "y = df[[\"Rating\"]]"
   ]
  },
  {
   "cell_type": "code",
   "execution_count": 6,
   "id": "def67c10-f2d0-406f-852f-dd83213203d5",
   "metadata": {},
   "outputs": [
    {
     "name": "stdout",
     "output_type": "stream",
     "text": [
      "-1.825428017111245\n"
     ]
    }
   ],
   "source": [
    "from sklearn.model_selection import cross_val_score\n",
    "reg = LinearRegression()\n",
    "cv_score_lr = cross_val_score(reg, X, y, cv=5, scoring='neg_root_mean_squared_error')\n",
    "print(cv_score_lr.mean())"
   ]
  },
  {
   "cell_type": "code",
   "execution_count": 7,
   "id": "f5772a76-e0b4-48b8-8e96-d6352c5c25e0",
   "metadata": {},
   "outputs": [],
   "source": [
    "from sklearn.tree import DecisionTreeRegressor"
   ]
  },
  {
   "cell_type": "code",
   "execution_count": 8,
   "id": "f8c26e2e-f0bf-4713-906f-4a5f40780cc9",
   "metadata": {},
   "outputs": [
    {
     "name": "stdout",
     "output_type": "stream",
     "text": [
      "-0.5899821907815015\n"
     ]
    }
   ],
   "source": [
    "d_tree = DecisionTreeRegressor()\n",
    "cv_score_dt = cross_val_score(d_tree, X, y, cv=5, scoring='neg_root_mean_squared_error')\n",
    "print(cv_score_dt.mean())"
   ]
  },
  {
   "cell_type": "code",
   "execution_count": 9,
   "id": "a330e2ba-4901-498e-a5dd-1e9bbad04515",
   "metadata": {},
   "outputs": [
    {
     "name": "stdout",
     "output_type": "stream",
     "text": [
      "-0.540992564047119\n"
     ]
    }
   ],
   "source": [
    "from xgboost import XGBRegressor \n",
    "xg_boost = XGBRegressor()\n",
    "cv_score_xb = cross_val_score(xg_boost, X, y, cv=5, scoring='neg_root_mean_squared_error')\n",
    "print(cv_score_xb.mean())"
   ]
  },
  {
   "cell_type": "code",
   "execution_count": null,
   "id": "f662d0d6-497e-49bc-8423-d7b06b106ff7",
   "metadata": {},
   "outputs": [],
   "source": []
  },
  {
   "cell_type": "code",
   "execution_count": 10,
   "id": "923578d1-e15d-47f3-bb96-c5769139e477",
   "metadata": {},
   "outputs": [
    {
     "data": {
      "image/png": "[encoded data removed]",
      "text/plain": [
       "<Figure size 720x720 with 1 Axes>"
      ]
     },
     "metadata": {
      "needs_background": "light"
     },
     "output_type": "display_data"
    }
   ],
   "source": [
    "import matplotlib.pyplot as plt\n",
    "data = [-cv_score_lr.mean(), -cv_score_dt.mean(), -cv_score_xb.mean()]\n",
    "labels = [\"LinearRegression\", \"DecisionTree\", \"XGBoost\"]\n",
    "plt.figure(figsize=(10, 10))\n",
    "plt.bar(labels, data)\n",
    "plt.show()"
   ]
  },
  {
   "cell_type": "code",
   "execution_count": null,
   "id": "7feeeeb8-2248-4d71-8ac8-87f3705c4e5e",
   "metadata": {},
   "outputs": [],
   "source": []
  },
  {
   "cell_type": "code",
   "execution_count": null,
   "id": "d6b87442-3040-4c6f-97db-bd1de3239496",
   "metadata": {},
   "outputs": [],
   "source": []
  }
 ],
 "metadata": {
  "kernelspec": {
   "display_name": "Python 3 (ipykernel)",
   "language": "python",
   "name": "python3"
  },
  "language_info": {
   "codemirror_mode": {
    "name": "ipython",
    "version": 3
   },
   "file_extension": ".py",
   "mimetype": "text/x-python",
   "name": "python",
   "nbconvert_exporter": "python",
   "pygments_lexer": "ipython3",
   "version": "3.7.13"
  }
 },
 "nbformat": 4,
 "nbformat_minor": 5
}
